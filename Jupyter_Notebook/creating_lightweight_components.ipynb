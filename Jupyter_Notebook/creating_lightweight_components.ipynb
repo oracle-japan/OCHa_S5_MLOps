{
 "cells": [
  {
   "cell_type": "code",
   "execution_count": 6,
   "id": "9b1a8e25-1d22-4563-9402-65979ad8ef5a",
   "metadata": {},
   "outputs": [],
   "source": [
    "import kfp \n",
    "import kfp.dsl as dsl\n",
    "from kfp.compiler import Compiler\n",
    "from kfp.components import func_to_container_op"
   ]
  },
  {
   "cell_type": "code",
   "execution_count": 7,
   "id": "c4ed2854-cac8-474a-ac88-45018344786b",
   "metadata": {},
   "outputs": [],
   "source": [
    "def add(a: float, b: float) -> float:\n",
    "    print(\"Adding two values %s and %s\" %(a, b))\n",
    "    return a + b\n",
    "\n",
    "def say(what: str):\n",
    "    print(what)\n",
    "\n",
    "    \n",
    "    \n",
    "add_op = func_to_container_op(func = add, base_image = \"python:alpine\")\n",
    "\n",
    "say_op = func_to_container_op(func = say, base_image = \"python:alpine\")"
   ]
  },
  {
   "cell_type": "code",
   "execution_count": 8,
   "id": "cc34c89d-ad1a-4926-ab98-cbc7ad3c0564",
   "metadata": {},
   "outputs": [],
   "source": [
    "@kfp.dsl.pipeline(\n",
    "  name='CreatingLightWeightComponents',\n",
    "  description='Creating lightweight components.'\n",
    ")\n",
    "\n",
    "\n",
    "def creating_lightweight_components(a='1', b='2', c='3', d='4',\n",
    "    what='Completed!',\n",
    "):\n",
    "    add_task_1 = add_op(a, b) \n",
    "    add_task_2 = add_op(b, c)\n",
    "    add_task_3 = add_op(c, d)\n",
    "    add_task_4 = add_op(add_task_2.output, add_task_3.output)\n",
    "    say_task   = say_op(what)\n",
    "\n",
    "    add_task_2.after(add_task_1)\n",
    "    add_task_3.after(add_task_1)\n",
    "    add_task_4.after(add_task_2, add_task_3)\n",
    "    say_task.after(add_task_4)"
   ]
  },
  {
   "cell_type": "code",
   "execution_count": 9,
   "id": "0dacae1f-7f54-451c-b172-6dd843dd56f4",
   "metadata": {},
   "outputs": [],
   "source": [
    "kfp.compiler.Compiler().compile(creating_lightweight_components,\n",
    "                                'creating_lightweight_components.yaml')"
   ]
  },
  {
   "cell_type": "code",
   "execution_count": null,
   "id": "ba621a4b-c142-4355-873a-70c7b4e09d66",
   "metadata": {},
   "outputs": [],
   "source": []
  },
  {
   "cell_type": "code",
   "execution_count": null,
   "id": "e1133f3d-d80a-41e6-8744-36ab6bb5f8ba",
   "metadata": {},
   "outputs": [],
   "source": []
  }
 ],
 "metadata": {
  "kernelspec": {
   "display_name": "Python 3",
   "language": "python",
   "name": "python3"
  },
  "language_info": {
   "codemirror_mode": {
    "name": "ipython",
    "version": 3
   },
   "file_extension": ".py",
   "mimetype": "text/x-python",
   "name": "python",
   "nbconvert_exporter": "python",
   "pygments_lexer": "ipython3",
   "version": "3.8.10"
  }
 },
 "nbformat": 4,
 "nbformat_minor": 5
}
